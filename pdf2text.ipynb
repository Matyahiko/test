{
  "nbformat": 4,
  "nbformat_minor": 0,
  "metadata": {
    "colab": {
      "provenance": [],
      "mount_file_id": "1JaYbbhcgNubLiJoIY3aktOQrJ92_-JRf",
      "authorship_tag": "ABX9TyON1PBllQ8cbCAbL7vy6P7a",
      "include_colab_link": true
    },
    "kernelspec": {
      "name": "python3",
      "display_name": "Python 3"
    },
    "language_info": {
      "name": "python"
    }
  },
  "cells": [
    {
      "cell_type": "markdown",
      "metadata": {
        "id": "view-in-github",
        "colab_type": "text"
      },
      "source": [
        "<a href=\"https://colab.research.google.com/github/Matyahiko/test/blob/main/pdf2text.ipynb\" target=\"_parent\"><img src=\"https://colab.research.google.com/assets/colab-badge.svg\" alt=\"Open In Colab\"/></a>"
      ]
    },
    {
      "cell_type": "code",
      "source": [
        "#!pip install fitz\n",
        "!pip install pandas\n",
        "!pip install pymupdf\n",
        "!pip install python-docx\n",
        "\n",
        "\n"
      ],
      "metadata": {
        "colab": {
          "base_uri": "https://localhost:8080/"
        },
        "id": "vHfbWmpYxMN0",
        "outputId": "c0284574-7e5a-4514-92cd-513f731b004f"
      },
      "execution_count": 12,
      "outputs": [
        {
          "output_type": "stream",
          "name": "stdout",
          "text": [
            "Looking in indexes: https://pypi.org/simple, https://us-python.pkg.dev/colab-wheels/public/simple/\n",
            "Requirement already satisfied: pandas in /usr/local/lib/python3.9/dist-packages (1.5.3)\n",
            "Requirement already satisfied: numpy>=1.20.3 in /usr/local/lib/python3.9/dist-packages (from pandas) (1.22.4)\n",
            "Requirement already satisfied: python-dateutil>=2.8.1 in /usr/local/lib/python3.9/dist-packages (from pandas) (2.8.2)\n",
            "Requirement already satisfied: pytz>=2020.1 in /usr/local/lib/python3.9/dist-packages (from pandas) (2022.7.1)\n",
            "Requirement already satisfied: six>=1.5 in /usr/local/lib/python3.9/dist-packages (from python-dateutil>=2.8.1->pandas) (1.16.0)\n",
            "Looking in indexes: https://pypi.org/simple, https://us-python.pkg.dev/colab-wheels/public/simple/\n",
            "Requirement already satisfied: pymupdf in /usr/local/lib/python3.9/dist-packages (1.22.2)\n",
            "Looking in indexes: https://pypi.org/simple, https://us-python.pkg.dev/colab-wheels/public/simple/\n",
            "Collecting python-docx\n",
            "  Downloading python-docx-0.8.11.tar.gz (5.6 MB)\n",
            "\u001b[2K     \u001b[90m━━━━━━━━━━━━━━━━━━━━━━━━━━━━━━━━━━━━━━━━\u001b[0m \u001b[32m5.6/5.6 MB\u001b[0m \u001b[31m39.2 MB/s\u001b[0m eta \u001b[36m0:00:00\u001b[0m\n",
            "\u001b[?25h  Preparing metadata (setup.py) ... \u001b[?25l\u001b[?25hdone\n",
            "Requirement already satisfied: lxml>=2.3.2 in /usr/local/lib/python3.9/dist-packages (from python-docx) (4.9.2)\n",
            "Building wheels for collected packages: python-docx\n",
            "  Building wheel for python-docx (setup.py) ... \u001b[?25l\u001b[?25hdone\n",
            "  Created wheel for python-docx: filename=python_docx-0.8.11-py3-none-any.whl size=184505 sha256=be0c966efca8db5802c6ee0307b788a2e6da39ba12e4e3ebbbf5a749e4041886\n",
            "  Stored in directory: /root/.cache/pip/wheels/83/8b/7c/09ae60c42c7ba4ed2dddaf2b8b9186cb105255856d6ed3dba5\n",
            "Successfully built python-docx\n",
            "Installing collected packages: python-docx\n",
            "Successfully installed python-docx-0.8.11\n"
          ]
        }
      ]
    },
    {
      "cell_type": "markdown",
      "source": [
        "# 新しいセクション"
      ],
      "metadata": {
        "id": "TYkDUbdBzo57"
      }
    },
    {
      "cell_type": "code",
      "execution_count": 5,
      "metadata": {
        "id": "_Yfb5OpqxIWX"
      },
      "outputs": [],
      "source": [
        "import fitz\n",
        "import os\n",
        "import pandas as pd\n",
        "\n",
        "\n",
        "\n",
        "df = pd.DataFrame()\n",
        "for filename in os.listdir(\"/content/drive/MyDrive/ tentative\"):\n",
        "  \n",
        "      doc = fitz.open(\"/content/drive/MyDrive/ tentative/\" + filename)\n",
        "      text = \"\"\n",
        "      for page in doc:\n",
        "          text += page.get_text()\n",
        "      filename = filename.replace(\"row_pdf_\", \"\")\n",
        "      with open(\"/content/drive/MyDrive/ tentative/\" + filename.replace(\".pdf\", \".txt\"), \"w\", encoding=\"utf-8\") as f:\n",
        "          f.write(text)\n",
        "\n",
        "#df.to_csv(\"log/pdf2text_error_log.csv\", index=False, header=False)\n",
        "\n",
        "\n",
        "\n",
        "\n",
        "  "
      ]
    },
    {
      "cell_type": "code",
      "source": [
        "import fitz\n",
        "import os \n",
        "\n",
        "\n",
        "for filename in os.listdir(\"/content/drive/MyDrive/ tentative\"):\n",
        "  if filename.endswith(\".pdf\"):\n",
        "      doc = fitz.open(\"/content/drive/MyDrive/ tentative/\" + filename)\n",
        "\n",
        "      # 抽出したテキストを格納するための変数\n",
        "      extracted_text = \"\"\n",
        "\n",
        "      # ドキュメント内の各ページに対してテキストを抽出する\n",
        "      for page_num in range(doc.page_count):\n",
        "          # ページをロードする\n",
        "          page = doc.load_page(page_num)\n",
        "\n",
        "          # ページからテキストを抽出する\n",
        "          text = page.get_text(\"text\")\n",
        "\n",
        "          img = page.get_images(full=True)\n",
        "          \n",
        "          # 抽出したテキストを追加する\n",
        "          extracted_text += text\n",
        "\n",
        "      # 抽出したテキストを表示する\n",
        "      print(extracted_text)\n",
        "\n",
        "      print(img)\n",
        "\n",
        "      # ドキュメントを閉じる\n",
        "      doc.close()\n"
      ],
      "metadata": {
        "id": "ZcsCHMjpqf2a"
      },
      "execution_count": null,
      "outputs": []
    },
    {
      "cell_type": "code",
      "source": [
        "import fitz\n",
        "import io\n",
        "from PIL import Image\n",
        "\n",
        "for filename in os.listdir(\"/content/drive/MyDrive/ tentative\"):\n",
        "  if filename.endswith(\".pdf\"):\n",
        "      doc = fitz.open(\"/content/drive/MyDrive/ tentative/\" + filename)\n",
        "\n",
        "      # 抽出したテキストを格納するための変数\n",
        "      extracted_text = \"\"\n",
        "\n",
        "      # 画像を保存するディレクトリ\n",
        "      image_directory = \"extracted_images\"\n",
        "\n",
        "      # ドキュメント内の各ページに対してテキストと画像を抽出する\n",
        "      for page_num in range(doc.page_count):\n",
        "        # ページをロードする\n",
        "        page = doc.load_page(page_num)\n",
        "\n",
        "        # ページからテキストを抽出する\n",
        "        text = page.get_text(\"text\")\n",
        "        \n",
        "        # 抽出したテキストを追加する\n",
        "        extracted_text += text\n",
        "\n",
        "        # ページから画像を抽出する\n",
        "        image_list = page.get_images(full=True)\n",
        "\n",
        "        # 画像を保存する\n",
        "        for image_index, img in enumerate(image_list):\n",
        "            xref = img[0]\n",
        "            base_image = doc.extract_image(xref)\n",
        "            image_bytes = base_image[\"image\"]\n",
        "\n",
        "            # 画像を PIL.Image オブジェクトに変換する\n",
        "            image = Image.open(io.BytesIO(image_bytes))\n",
        "\n",
        "            # 画像を保存する\n",
        "            image.save(f\"/content/drive/MyDrive/ tentative/img/page{page_num}_image{image_index}.png\")\n",
        "\n",
        "      # 抽出したテキストを表示する\n",
        "      print(extracted_text)\n",
        "\n",
        "      # ドキュメントを閉じる\n",
        "      doc.close()\n"
      ],
      "metadata": {
        "id": "3xzI4FSR6R6T"
      },
      "execution_count": null,
      "outputs": []
    },
    {
      "cell_type": "code",
      "source": [
        "from pdf2docx.main import parse\n",
        "\n",
        "pdf_file = 'sample.pdf'\n",
        "docx_file = 'sample.docx'\n",
        "\n",
        "parse(pdf_file, docx_file)\n",
        "\n",
        "#parse(pdf_file, docx_file, start=0, end=2)"
      ],
      "metadata": {
        "id": "KwwzSvcPEV6s"
      },
      "execution_count": null,
      "outputs": []
    },
    {
      "cell_type": "code",
      "source": [
        "import os\n",
        "import docx\n",
        "from PIL import Image\n",
        "\n",
        "# Wordファイルを開く\n",
        "word_path = \"example.docx\"\n",
        "doc = docx.Document(word_path)\n",
        "\n",
        "# 抽出したテキストを格納するための変数\n",
        "extracted_text = \"\"\n",
        "\n",
        "# テキストを抽出する\n",
        "for paragraph in doc.paragraphs:\n",
        "    extracted_text += paragraph.text + \"\\n\"\n",
        "\n",
        "# 抽出したテキストを表示する\n",
        "print(extracted_text)\n",
        "\n",
        "# 画像を保存するディレクトリ\n",
        "image_directory = \"extracted_images\"\n",
        "\n",
        "# 画像を抽出する\n",
        "for index, shape in enumerate(doc.inline_shapes):\n",
        "    if shape.type == docx.enum.shape.WD_INLINE_SHAPE.PICTURE:\n",
        "        # 画像のファイル名を作成する\n",
        "        image_filename = f\"{image_directory}/image{index}.png\"\n",
        "\n",
        "        # 画像を保存する\n",
        "        with open(image_filename, \"wb\") as f:\n",
        "            f.write(shape._inline.graphic.graphicData.pic.blipFill.blip.embeddedPackage.part.blob)\n",
        "\n",
        "        # 画像を表示する\n",
        "        image = Image.open(image_filename)\n",
        "        image.show()\n"
      ],
      "metadata": {
        "id": "wtVmnOhYDwBR"
      },
      "execution_count": null,
      "outputs": []
    }
  ]
}